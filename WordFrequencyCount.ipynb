{
  "nbformat": 4,
  "nbformat_minor": 0,
  "metadata": {
    "colab": {
      "name": "WordFrequencyCount.ipynb",
      "provenance": [],
      "collapsed_sections": []
    },
    "kernelspec": {
      "name": "python3",
      "display_name": "Python 3"
    }
  },
  "cells": [
    {
      "cell_type": "markdown",
      "metadata": {
        "id": "6L6QE0-kWs73",
        "colab_type": "text"
      },
      "source": [
        "###Importing libraries"
      ]
    },
    {
      "cell_type": "code",
      "metadata": {
        "id": "Y-qb-TlHW4gF",
        "colab_type": "code",
        "colab": {}
      },
      "source": [
        "import requests\n",
        "from bs4 import BeautifulSoup as bs\n",
        "import nltk"
      ],
      "execution_count": 0,
      "outputs": []
    },
    {
      "cell_type": "markdown",
      "metadata": {
        "id": "fU5hHmUNXF3R",
        "colab_type": "text"
      },
      "source": [
        "# Getting the web page."
      ]
    },
    {
      "cell_type": "code",
      "metadata": {
        "id": "7F4p0cN1XQV3",
        "colab_type": "code",
        "colab": {}
      },
      "source": [
        "req = requests.get(\"https://www.gutenberg.org/files/62150/62150-h/62150-h.htm\")"
      ],
      "execution_count": 0,
      "outputs": []
    },
    {
      "cell_type": "code",
      "metadata": {
        "id": "KVWh2cgZXxZW",
        "colab_type": "code",
        "outputId": "42fd4279-5126-4442-ce1f-8ca873ddc0b0",
        "colab": {
          "base_uri": "https://localhost:8080/",
          "height": 34
        }
      },
      "source": [
        "req.status_code"
      ],
      "execution_count": 0,
      "outputs": [
        {
          "output_type": "execute_result",
          "data": {
            "text/plain": [
              "200"
            ]
          },
          "metadata": {
            "tags": []
          },
          "execution_count": 55
        }
      ]
    },
    {
      "cell_type": "markdown",
      "metadata": {
        "id": "IKDfkRhdYEoQ",
        "colab_type": "text"
      },
      "source": [
        "status response **200** indicates that the request has succeeded"
      ]
    },
    {
      "cell_type": "markdown",
      "metadata": {
        "id": "I6a9rl75YavO",
        "colab_type": "text"
      },
      "source": [
        "###Parsing to BeautifulSoup"
      ]
    },
    {
      "cell_type": "code",
      "metadata": {
        "id": "HX7kA37TX4PK",
        "colab_type": "code",
        "outputId": "e96175b6-37d5-4e3a-9291-6f4176677da5",
        "colab": {
          "base_uri": "https://localhost:8080/",
          "height": 34
        }
      },
      "source": [
        "page = req.text\n",
        "html = bs(page)\n",
        "type(html)"
      ],
      "execution_count": 0,
      "outputs": [
        {
          "output_type": "execute_result",
          "data": {
            "text/plain": [
              "bs4.BeautifulSoup"
            ]
          },
          "metadata": {
            "tags": []
          },
          "execution_count": 56
        }
      ]
    },
    {
      "cell_type": "code",
      "metadata": {
        "id": "EQ-4RX15Ytn5",
        "colab_type": "code",
        "outputId": "34f19177-dbac-46b9-9bdb-c54f86aec743",
        "colab": {
          "base_uri": "https://localhost:8080/",
          "height": 34
        }
      },
      "source": [
        "Text = html.text\n",
        "type(Text)"
      ],
      "execution_count": 0,
      "outputs": [
        {
          "output_type": "execute_result",
          "data": {
            "text/plain": [
              "str"
            ]
          },
          "metadata": {
            "tags": []
          },
          "execution_count": 57
        }
      ]
    },
    {
      "cell_type": "markdown",
      "metadata": {
        "id": "R5UTOD7PjMP0",
        "colab_type": "text"
      },
      "source": [
        "#Tokenizing"
      ]
    },
    {
      "cell_type": "code",
      "metadata": {
        "id": "daasS6cxjO6b",
        "colab_type": "code",
        "colab": {}
      },
      "source": [
        "tokenized = nltk.tokenize.RegexpTokenizer('\\w+')\n",
        "tokens = tokenized.tokenize(Text)"
      ],
      "execution_count": 0,
      "outputs": []
    },
    {
      "cell_type": "code",
      "metadata": {
        "id": "xHsZt42Yja_s",
        "colab_type": "code",
        "outputId": "d3dc4999-9503-4e00-b253-26c423a86593",
        "colab": {
          "base_uri": "https://localhost:8080/",
          "height": 34
        }
      },
      "source": [
        "tokens[:10]"
      ],
      "execution_count": 0,
      "outputs": [
        {
          "output_type": "execute_result",
          "data": {
            "text/plain": [
              "['ï', 'The', 'Project', 'Gutenberg', 'eBook', 'of', 'The', 'Danube', 'by', 'F']"
            ]
          },
          "metadata": {
            "tags": []
          },
          "execution_count": 59
        }
      ]
    },
    {
      "cell_type": "markdown",
      "metadata": {
        "id": "upWb94Eej0mS",
        "colab_type": "text"
      },
      "source": [
        "###Need to make all the words lower case."
      ]
    },
    {
      "cell_type": "code",
      "metadata": {
        "id": "2enAeqPBj48M",
        "colab_type": "code",
        "colab": {}
      },
      "source": [
        "words = [ele.lower() for ele in tokens]"
      ],
      "execution_count": 0,
      "outputs": []
    },
    {
      "cell_type": "markdown",
      "metadata": {
        "id": "Gsjymb3skKYA",
        "colab_type": "text"
      },
      "source": [
        "###Need to remove stop words"
      ]
    },
    {
      "cell_type": "code",
      "metadata": {
        "id": "8aSouoBGkOhg",
        "colab_type": "code",
        "outputId": "e9906e69-850f-4bfc-9ee5-57adf91b842c",
        "colab": {
          "base_uri": "https://localhost:8080/",
          "height": 67
        }
      },
      "source": [
        "nltk.download('stopwords')"
      ],
      "execution_count": 0,
      "outputs": [
        {
          "output_type": "stream",
          "text": [
            "[nltk_data] Downloading package stopwords to /root/nltk_data...\n",
            "[nltk_data]   Package stopwords is already up-to-date!\n"
          ],
          "name": "stdout"
        },
        {
          "output_type": "execute_result",
          "data": {
            "text/plain": [
              "True"
            ]
          },
          "metadata": {
            "tags": []
          },
          "execution_count": 61
        }
      ]
    },
    {
      "cell_type": "code",
      "metadata": {
        "id": "fiIQg-KFklVV",
        "colab_type": "code",
        "colab": {}
      },
      "source": [
        "from nltk.corpus import stopwords\n",
        "sw_eng = stopwords.words('english')"
      ],
      "execution_count": 0,
      "outputs": []
    },
    {
      "cell_type": "code",
      "metadata": {
        "id": "gd0ptU7MlrBJ",
        "colab_type": "code",
        "outputId": "64bc56c4-ce4a-42fb-af0b-bdebd58a9d3c",
        "colab": {
          "base_uri": "https://localhost:8080/",
          "height": 34
        }
      },
      "source": [
        "sw_eng[:10]"
      ],
      "execution_count": 0,
      "outputs": [
        {
          "output_type": "execute_result",
          "data": {
            "text/plain": [
              "['i', 'me', 'my', 'myself', 'we', 'our', 'ours', 'ourselves', 'you', \"you're\"]"
            ]
          },
          "metadata": {
            "tags": []
          },
          "execution_count": 63
        }
      ]
    },
    {
      "cell_type": "code",
      "metadata": {
        "id": "ClroQI6LmUlE",
        "colab_type": "code",
        "colab": {}
      },
      "source": [
        "word_without_sw = []\n",
        "for word in words:\n",
        "  if word in sw_eng:\n",
        "    continue\n",
        "  else:\n",
        "    word_without_sw.append(word)"
      ],
      "execution_count": 0,
      "outputs": []
    },
    {
      "cell_type": "code",
      "metadata": {
        "id": "lx6zS9pWnaXs",
        "colab_type": "code",
        "outputId": "caa2793b-1041-4b80-aa56-095947f612e5",
        "colab": {
          "base_uri": "https://localhost:8080/",
          "height": 50
        }
      },
      "source": [
        "print(word_without_sw[:10])\n",
        "print(words[:10])"
      ],
      "execution_count": 0,
      "outputs": [
        {
          "output_type": "stream",
          "text": [
            "['ï', 'project', 'gutenberg', 'ebook', 'danube', 'f', 'millet', 'p', 'margin', 'top']\n",
            "['ï', 'the', 'project', 'gutenberg', 'ebook', 'of', 'the', 'danube', 'by', 'f']\n"
          ],
          "name": "stdout"
        }
      ]
    },
    {
      "cell_type": "markdown",
      "metadata": {
        "id": "Ep7RXUtUpaxO",
        "colab_type": "text"
      },
      "source": [
        "##Plot"
      ]
    },
    {
      "cell_type": "code",
      "metadata": {
        "id": "R4jSiDEopeLT",
        "colab_type": "code",
        "outputId": "9d4a48c8-bfdd-4e44-fb00-c24039326302",
        "colab": {
          "base_uri": "https://localhost:8080/",
          "height": 321
        }
      },
      "source": [
        "freqdist = nltk.FreqDist(word_without_sw)\n",
        "freqdist.plot(20)"
      ],
      "execution_count": 0,
      "outputs": [
        {
          "output_type": "display_data",
          "data": {
            "image/png": "[encoded data removed]",
            "text/plain": [
              "<Figure size 432x288 with 1 Axes>"
            ]
          },
          "metadata": {
            "tags": [],
            "needs_background": "light"
          }
        }
      ]
    }
  ]
}